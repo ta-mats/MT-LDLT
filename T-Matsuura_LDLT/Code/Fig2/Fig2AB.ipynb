{
 "cells": [
  {
   "cell_type": "markdown",
   "metadata": {},
   "source": [
    "# Fig2A"
   ]
  },
  {
   "cell_type": "code",
   "execution_count": 2,
   "metadata": {},
   "outputs": [
    {
     "name": "stdout",
     "output_type": "stream",
     "text": [
      "Intel MKL WARNING: Support of Intel(R) Streaming SIMD Extensions 4.2 (Intel(R) SSE4.2) enabled only processors has been deprecated. Intel oneAPI Math Kernel Library 2025.0 will require Intel(R) Advanced Vector Extensions (Intel(R) AVX) instructions.\n",
      "Intel MKL WARNING: Support of Intel(R) Streaming SIMD Extensions 4.2 (Intel(R) SSE4.2) enabled only processors has been deprecated. Intel oneAPI Math Kernel Library 2025.0 will require Intel(R) Advanced Vector Extensions (Intel(R) AVX) instructions.\n"
     ]
    },
    {
     "name": "stderr",
     "output_type": "stream",
     "text": [
      "/Users/matsuuratakeru/anaconda3/envs/newbase/lib/python3.11/site-packages/tqdm/auto.py:21: TqdmWarning: IProgress not found. Please update jupyter and ipywidgets. See https://ipywidgets.readthedocs.io/en/stable/user_install.html\n",
      "  from .autonotebook import tqdm as notebook_tqdm\n"
     ]
    }
   ],
   "source": [
    "import umap\n",
    "import pandas as pd\n",
    "import numpy as np\n",
    "import os\n",
    "from matplotlib import pyplot as plt\n",
    "from matplotlib.lines import Line2D\n",
    "from matplotlib.patches import Patch, Circle\n",
    "from lifelines import KaplanMeierFitter"
   ]
  },
  {
   "cell_type": "code",
   "execution_count": 3,
   "metadata": {},
   "outputs": [],
   "source": [
    "os.chdir('./T-Matsuura_LDLT')\n",
    "path = os.getcwd()"
   ]
  },
  {
   "cell_type": "code",
   "execution_count": null,
   "metadata": {},
   "outputs": [],
   "source": [
    "train_X_180 = pd.read_csv(path+'/Data/train_X_180_revise.csv',index_col=0)\n",
    "train_y_180 = pd.read_csv(path+'/Data/train_y_180_revise.csv',index_col=0)\n",
    "val_X_180 = pd.read_csv(path+'/Data/val_X_180_revise.csv',index_col=0)\n",
    "val_Y_180 = pd.read_csv(path+'/Data/val_Y_180_revise.csv',index_col=0)"
   ]
  },
  {
   "cell_type": "code",
   "execution_count": 5,
   "metadata": {},
   "outputs": [],
   "source": [
    "#Unnecessary factor exclusion\n",
    "X_180 = train_X_180.drop(['Rp_neutro','Rp_lymph','Portal_vein_blood_flow','SLV','Rp_HBsAb_No','graft2_Right lobe and above','graft2_Posterior area','BD stenosis_Yes','Rp_preportal_vein_thrombosis_complete','Rp_preportal_vein_thrombosis_partial','Rp_preportal_vein_thrombosis_No','ALF_Yes','BD stenosis_No','Bile leak_No','Simulect_No','introductory_MMF_No','Biliary stent_No','Bypass_No','shunt_0','Rp_preoperative_esophageal_varices_(post-EIS_also_referred_to_as_EIS)_No','Liver_resection_transplant_history_No','History_of _pper_abdominal_laparotomy_No','Rp_splenectomy1_0','preCKD_No','Rp_preascite_0','preDM_No','portal_vein_thrombosis2_No','graft2_Left lobe','donor_sex_F','bloodrelation_No','HCVAB_No','donor_HTLV1_No','HTLV1_No','donor_HBcAb_No','Rp_sex_F','HCC_No','ALF_No'],axis = 1).reset_index(drop=True)#相関の高い因子の除去\n",
    "X_180_val = val_X_180.drop(['Rp_neutro','Rp_lymph','Portal_vein_blood_flow','SLV','Rp_HBsAb_No','graft2_Right lobe and above','graft2_Posterior area','BD stenosis_Yes','Rp_preportal_vein_thrombosis_complete','Rp_preportal_vein_thrombosis_partial','Rp_preportal_vein_thrombosis_No','ALF_Yes','BD stenosis_No','Bile leak_No','Simulect_No','introductory_MMF_No','Biliary stent_No','Bypass_No','shunt_0','Rp_preoperative_esophageal_varices_(post-EIS_also_referred_to_as_EIS)_No','Liver_resection_transplant_history_No','History_of _pper_abdominal_laparotomy_No','Rp_splenectomy1_0','preCKD_No','Rp_preascite_0','preDM_No','portal_vein_thrombosis2_No','graft2_Left lobe','donor_sex_F','bloodrelation_No','HCVAB_No','donor_HTLV1_No','HTLV1_No','donor_HBcAb_No','Rp_sex_F','HCC_No','ALF_No'],axis = 1).reset_index(drop=True)#相関の高い因子の除去\n",
    "y = train_y_180['graftloss_within_6months'].astype('bool').reset_index(drop=True)\n",
    "val_y = val_Y_180['graftloss_within_6months'].astype('bool').reset_index(drop=True)"
   ]
  },
  {
   "cell_type": "code",
   "execution_count": 6,
   "metadata": {},
   "outputs": [],
   "source": [
    "from sklearn.ensemble import RandomForestClassifier\n",
    "rfc = RandomForestClassifier(random_state = 4,class_weight='balanced',max_depth = None, min_samples_split =  2, n_estimators = 500)\n",
    "rfc.fit(X_180,y)\n",
    "leaves = rfc.apply(X_180)\n",
    "from sklearn.preprocessing import OneHotEncoder\n",
    "M = OneHotEncoder().fit_transform(leaves)\n",
    "S = (M*M.transpose()).todense()\n",
    "D = 1 - S/S.max()\n",
    "D = np.asarray(D)\n",
    "\n"
   ]
  },
  {
   "cell_type": "code",
   "execution_count": 7,
   "metadata": {},
   "outputs": [],
   "source": [
    "#Clustering definition \n",
    "from scipy.spatial.distance import pdist, squareform\n",
    "def getAffinityMatrix(coordinates, k = 7):\n",
    "    \"\"\"\n",
    "    Calculate affinity matrix based on input coordinates matrix and the numeber\n",
    "    of nearest neighbours.\n",
    "    \n",
    "    Apply local scaling based on the k nearest neighbour\n",
    "        References:\n",
    "    https://papers.nips.cc/paper/2619-self-tuning-spectral-clustering.pdf\n",
    "    \"\"\"\n",
    "    # calculate euclidian distance matrix\n",
    "    dists = squareform(pdist(coordinates)) \n",
    "    \n",
    "    # for each row, sort the distances ascendingly and take the index of the \n",
    "    #k-th position (nearest neighbour)\n",
    "    knn_distances = np.sort(dists, axis=0)[k]\n",
    "    knn_distances = knn_distances[np.newaxis].T\n",
    "    \n",
    "    # calculate sigma_i * sigma_j\n",
    "    local_scale = knn_distances.dot(knn_distances.T)\n",
    "\n",
    "    affinity_matrix = dists * dists\n",
    "    affinity_matrix = -affinity_matrix / local_scale\n",
    "    # divide square distance matrix by local scale\n",
    "    affinity_matrix[np.where(np.isnan(affinity_matrix))] = 0.0\n",
    "    # apply exponential\n",
    "    affinity_matrix = np.exp(affinity_matrix)\n",
    "    np.fill_diagonal(affinity_matrix, 0)\n",
    "    return affinity_matrix"
   ]
  },
  {
   "cell_type": "code",
   "execution_count": 8,
   "metadata": {},
   "outputs": [],
   "source": [
    "import scipy\n",
    "from scipy.sparse import csgraph\n",
    "# from scipy.sparse.linalg import eigsh\n",
    "from numpy import linalg as LA\n",
    "def eigenDecomposition(A, plot = True, topK = 5):\n",
    "    \"\"\"\n",
    "    :param A: Affinity matrix\n",
    "    :param plot: plots the sorted eigen values for visual inspection\n",
    "    :return A tuple containing:\n",
    "    - the optimal number of clusters by eigengap heuristic\n",
    "    - all eigen values\n",
    "    - all eigen vectors\n",
    "    \n",
    "    This method performs the eigen decomposition on a given affinity matrix,\n",
    "    following the steps recommended in the paper:\n",
    "    1. Construct the normalized affinity matrix: L = D−1/2ADˆ −1/2.\n",
    "    2. Find the eigenvalues and their associated eigen vectors\n",
    "    3. Identify the maximum gap which corresponds to the number of clusters\n",
    "    by eigengap heuristic\n",
    "    \n",
    "    References:\n",
    "    https://papers.nips.cc/paper/2619-self-tuning-spectral-clustering.pdf\n",
    "    http://www.kyb.mpg.de/fileadmin/user_upload/files/publications/attachments/Luxburg07_tutorial_4488%5b0%5d.pdf\n",
    "    \"\"\"\n",
    "    L = csgraph.laplacian(A, normed=True)\n",
    "    n_components = A.shape[0]\n",
    "    \n",
    "    # LM parameter : Eigenvalues with largest magnitude (eigs, eigsh), that is, largest eigenvalues in \n",
    "    # the euclidean norm of complex numbers.\n",
    "    # eigenvalues, eigenvectors = eigsh(L, k=n_components, which=\"LM\", sigma=1.0, maxiter=5000)\n",
    "    eigenvalues, eigenvectors = LA.eig(L)\n",
    "    \n",
    "    if plot:\n",
    "        plt.title('Largest eigen values of input matrix')\n",
    "        plt.scatter(np.arange(len(eigenvalues)), eigenvalues,s=2)\n",
    "        plt.grid()\n",
    "        \n",
    "    # Identify the optimal number of clusters as the index corresponding\n",
    "    # to the larger gap between eigen values\n",
    "    index_largest_gap = np.argsort(np.diff(eigenvalues))[::-1][:topK]\n",
    "    nb_clusters = index_largest_gap + 1\n",
    "        \n",
    "    return nb_clusters, eigenvalues, eigenvectors"
   ]
  },
  {
   "cell_type": "code",
   "execution_count": 9,
   "metadata": {},
   "outputs": [
    {
     "name": "stdout",
     "output_type": "stream",
     "text": [
      "Intel MKL WARNING: Support of Intel(R) Streaming SIMD Extensions 4.2 (Intel(R) SSE4.2) enabled only processors has been deprecated. Intel oneAPI Math Kernel Library 2025.0 will require Intel(R) Advanced Vector Extensions (Intel(R) AVX) instructions.\n"
     ]
    },
    {
     "name": "stderr",
     "output_type": "stream",
     "text": [
      "/Users/matsuuratakeru/anaconda3/envs/newbase/lib/python3.11/site-packages/umap/umap_.py:1943: UserWarning: n_jobs value -1 overridden to 1 by setting random_state. Use no seed for parallelism.\n",
      "  warn(f\"n_jobs value {self.n_jobs} overridden to 1 by setting random_state. Use no seed for parallelism.\")\n"
     ]
    },
    {
     "name": "stdout",
     "output_type": "stream",
     "text": [
      "Intel MKL WARNING: Support of Intel(R) Streaming SIMD Extensions 4.2 (Intel(R) SSE4.2) enabled only processors has been deprecated. Intel oneAPI Math Kernel Library 2025.0 will require Intel(R) Advanced Vector Extensions (Intel(R) AVX) instructions.\n",
      "Optimal number of clusters [ 95 107 112  22 116]\n"
     ]
    },
    {
     "data": {
      "text/plain": [
       "<matplotlib.collections.PathCollection at 0x141368990>"
      ]
     },
     "execution_count": 9,
     "metadata": {},
     "output_type": "execute_result"
    },
    {
     "data": {
      "image/png": "[encoded data removed]",
      "text/plain": [
       "<Figure size 640x480 with 1 Axes>"
      ]
     },
     "metadata": {},
     "output_type": "display_data"
    }
   ],
   "source": [
    "#decide number of clusters\n",
    "embed_umap2 = umap.UMAP(random_state = 12).fit_transform(D)\n",
    "affinity_matrix = getAffinityMatrix(embed_umap2, k = 13);\n",
    "k, l,  _ = eigenDecomposition(affinity_matrix);\n",
    "print(f'Optimal number of clusters {k}')\n",
    "plt.xlim(0,15)\n",
    "plt.ylim(0,0.2)\n",
    "plt.scatter(np.arange(4),l[0:4], s=5) \n",
    "\n",
    "\n",
    "\n"
   ]
  },
  {
   "cell_type": "code",
   "execution_count": 10,
   "metadata": {},
   "outputs": [
    {
     "name": "stdout",
     "output_type": "stream",
     "text": [
      "Intel MKL WARNING: Support of Intel(R) Streaming SIMD Extensions 4.2 (Intel(R) SSE4.2) enabled only processors has been deprecated. Intel oneAPI Math Kernel Library 2025.0 will require Intel(R) Advanced Vector Extensions (Intel(R) AVX) instructions.\n"
     ]
    },
    {
     "data": {
      "text/plain": [
       "array([0, 4, 2, 4, 0, 2, 4, 4, 2, 4, 2, 0, 0, 1, 0, 0, 0, 0, 0, 2, 2, 1,\n",
       "       0, 2, 1, 4, 0, 3, 0, 4, 0, 1, 2, 4, 2, 0, 3, 4, 0, 4, 4, 1, 2, 2,\n",
       "       4, 2, 0, 2, 3, 0, 4, 4, 0, 0, 1, 2, 2, 2, 1, 1, 2, 2, 0, 0, 0, 0,\n",
       "       0, 2, 4, 2, 4, 2, 0, 2, 1, 1, 4, 4, 0, 4, 1, 4, 2, 4, 4, 0, 3, 4,\n",
       "       3, 0, 0, 1, 0, 2, 4, 1, 2, 4, 1, 0, 0, 4, 0, 0, 1, 2, 4, 2, 3, 4,\n",
       "       4, 1, 0, 1, 0, 1, 0, 3, 1, 0, 4, 0, 0, 4, 1, 4, 4, 0, 1, 1, 0, 0,\n",
       "       2, 1, 4, 4, 4, 1, 0, 0, 2, 0, 3, 2, 1, 2, 0, 1, 0, 4, 4, 0, 2, 0,\n",
       "       4, 4, 3, 0, 2, 4, 0, 2, 4, 4, 0, 0, 4, 4, 3, 4, 1, 0, 2, 0, 0, 0,\n",
       "       0, 0, 0, 4, 4, 4, 0, 3, 2, 2, 0, 4, 0, 1, 1, 1, 2, 2, 1, 1, 1, 4,\n",
       "       4, 0, 1, 4, 0, 0, 0, 4, 4, 1, 0, 4, 0, 2, 4, 0, 0, 4, 1, 1, 1, 4,\n",
       "       0, 0, 4, 0, 2, 0, 0, 2, 4, 2, 2, 0, 0, 4, 0, 0, 0, 0, 2, 0, 1, 2,\n",
       "       4, 0, 0, 2, 2, 4, 0, 2, 0, 4, 2, 0, 0, 2, 2, 0, 0, 4, 4, 4, 4, 3,\n",
       "       2, 2, 4, 1, 0, 4, 3, 2, 2, 2, 1, 0, 2, 2, 4, 2, 0, 0, 0, 0, 4, 1,\n",
       "       4, 1, 1, 0, 4, 1, 0, 4, 2, 0, 0, 0, 0, 4, 4, 4, 1, 2, 0, 0, 0, 2,\n",
       "       1, 4, 4, 1, 4, 0, 4, 0, 0, 4, 0, 0, 0, 1, 4, 0, 0, 0, 2, 0, 4, 4,\n",
       "       2, 0, 0, 0, 0, 4, 0, 4, 3, 3, 2, 0, 1, 2, 1, 4, 0, 4, 2, 1, 0, 0,\n",
       "       1, 4, 1, 2, 1, 4, 4, 1, 0, 4, 3, 0, 2, 1, 0, 1, 0, 2, 3, 4, 0, 0,\n",
       "       0, 0, 4, 0, 0, 0, 0, 4, 4, 4, 1, 2, 1, 0, 4, 2, 2, 4, 2, 2, 2, 0,\n",
       "       4, 0, 3, 0, 4, 4, 4, 0, 0, 2, 0, 2, 0, 3, 4, 4, 0, 4, 2, 3, 0, 2,\n",
       "       4, 0, 0, 0, 0, 0, 2, 4, 4, 1, 4, 0, 1, 2, 1, 2, 2, 0, 2, 1, 1, 2,\n",
       "       4, 0, 0, 2, 4, 2, 4, 4, 1, 0, 0, 1, 0, 4, 2, 0, 2, 4, 0, 2, 4, 1,\n",
       "       1, 4, 1, 0, 0, 0, 2, 2, 2, 2, 0, 0, 4, 4, 4, 0, 4, 0, 2, 2, 0, 4,\n",
       "       0, 0, 4, 1, 3, 0, 4, 0, 1, 1, 0, 0, 4, 3, 0, 1, 4, 0, 0, 4, 2, 2,\n",
       "       2, 3, 1, 3, 1, 2, 4, 0, 4, 0, 0, 0, 4, 0, 4, 4, 4, 0, 0, 4, 4, 2,\n",
       "       4, 0, 0, 4, 1, 2, 2, 2, 2, 4, 1, 0, 4, 4, 4, 4, 0, 0, 4, 0, 0, 4,\n",
       "       4, 0, 0, 0, 0, 4, 0, 0, 2])"
      ]
     },
     "execution_count": 10,
     "metadata": {},
     "output_type": "execute_result"
    }
   ],
   "source": [
    "from sklearn.cluster import SpectralClustering\n",
    "clustering = SpectralClustering(n_clusters=5, assign_labels='discretize', random_state=1234).fit(embed_umap2)\n",
    "clustering.labels_"
   ]
  },
  {
   "cell_type": "code",
   "execution_count": null,
   "metadata": {},
   "outputs": [],
   "source": [
    "cmap = plt.get_cmap(\"tab10\")\n",
    "fig, ax = plt.subplots(figsize=(12,12))\n",
    "ax.set_facecolor('white')\n",
    "\n",
    "ccll=[]\n",
    "for i in sorted(set(y)):\n",
    "    index = y[y==i].index\n",
    "    emb = embed_umap2[index,:]\n",
    "    clusterLabel = clustering.labels_[index]\n",
    "    \n",
    "    if i == 1:\n",
    "        plt.scatter(emb[:,0],emb[:,1],linewidths = 1, color = [cmap(k) for k in clusterLabel],s=100)\n",
    "    if i == 0:\n",
    "        plt.scatter(emb[:,0],emb[:,1],linewidths = 1.0,facecolors='none', color = [cmap(k) for k in clusterLabel],s=100)\n",
    "\n",
    "circle1 = Line2D([0], [0], marker='o', color='black', label='Early graft loss', markersize=20,linestyle='None')\n",
    "circle2 = Line2D([0], [0], marker='o',color='black', label='Long-term/No graft loss', markersize=20,linestyle='None', fillstyle='none')\n",
    "\n",
    "plt.legend(handles=[circle1,circle2], loc='upper right',facecolor='white',prop={ \"weight\":\"normal\",'size':24},frameon=False)\n",
    "plt.xlabel('UMAP 2',weight='normal',size = 40)\n",
    "plt.ylabel('UMAP 1',weight='normal',size = 40)\n",
    "plt.xticks(fontsize=32,weight='normal')\n",
    "plt.yticks(fontsize=32,weight='normal')\n",
    "ax.spines['top'].set_color('white')  # X軸\n",
    "ax.spines['right'].set_color('white')\n",
    "plt.text(4.5, 6.5, 'G3', ha='center', va='center', color='red', fontsize=32)\n",
    "plt.text(4.5,2, 'G2', ha='center', va='center', color='purple', fontsize=32)\n",
    "plt.text(-2, 5, 'G5', ha='center', va='center', color='blue', fontsize=32)\n",
    "plt.text(0,3, 'G4', ha='center', va='center', color='green', fontsize=32)\n",
    "plt.text(8,2, 'G1', ha='center', va='center', color='orange', fontsize=32)\n",
    "plt.rcParams['font.family'] = 'Arial'\n",
    "plt.savefig(path+'/Output/Fig2/Fig2A_revise.pdf', bbox_inches=\"tight\")"
   ]
  },
  {
   "cell_type": "markdown",
   "metadata": {},
   "source": [
    "# Fig2B"
   ]
  },
  {
   "cell_type": "code",
   "execution_count": 16,
   "metadata": {},
   "outputs": [],
   "source": [
    "#Define each variable\n",
    "y_copy = train_y_180.copy()\n",
    "y_copy['ClustLabel'] = clustering.labels_\n",
    "a = y_copy['graft_days_aive']\n",
    "b = y_copy['graftloss']\n",
    "c = y_copy['ClustLabel']"
   ]
  },
  {
   "cell_type": "code",
   "execution_count": null,
   "metadata": {},
   "outputs": [],
   "source": [
    "# クラスターごとの生存時間分析\n",
    "\n",
    "fig, ax = plt.subplots(figsize=(12,12))\n",
    "ax.set_facecolor('white')\n",
    "\n",
    "kmf_1 = KaplanMeierFitter()\n",
    "kmf_2 = KaplanMeierFitter()\n",
    "kmf_3 = KaplanMeierFitter()\n",
    "kmf_4 = KaplanMeierFitter()\n",
    "kmf_5 = KaplanMeierFitter()\n",
    "\n",
    "\n",
    "#Cluster and label\n",
    "kmf_1.fit(a[c==0],b[c==0],label = 'G5')\n",
    "kmf_2.fit(a[c==1],b[c==1],label = 'G1')\n",
    "kmf_3.fit(a[c==2],b[c==2],label = 'G4')\n",
    "kmf_4.fit(a[c==3],b[c==3],label = 'G3')\n",
    "kmf_5.fit(a[c==4],b[c==4],label = 'G2')\n",
    "\n",
    "\n",
    "\n",
    "\n",
    "#Display of censored lines\n",
    "kmf_1.plot_survival_function(show_censors = True)\n",
    "kmf_2.plot_survival_function(show_censors = True)\n",
    "kmf_3.plot_survival_function(show_censors = True)\n",
    "kmf_4.plot_survival_function(show_censors = True)\n",
    "kmf_5.plot_survival_function(show_censors = True)\n",
    "\n",
    "\n",
    "\n",
    "plt.yticks([0.0,0.25,0.5,0.75,1.0],fontsize=32,weight='normal')\n",
    "plt.xticks(fontsize=32,weight='normal')\n",
    "handles, labels = plt.gca().get_legend_handles_labels()\n",
    "new_order = [1,4,3,2,0]  #Aligning the Legends\n",
    "handles = [handles[i] for i in new_order]\n",
    "labels = [labels[i] for i in new_order]\n",
    "plt.legend(handles,labels, bbox_to_anchor=(0.55, 0.8),prop={ \"weight\":\"normal\",'size':24},facecolor='white',frameon=False,ncol=2)\n",
    "\n",
    "plt.xlabel('Postoperative days',weight='normal',size = 40)\n",
    "plt.ylabel('Survival Probability',weight='normal',size = 40)\n",
    "ax.spines['top'].set_color('white')  # X軸\n",
    "ax.spines['right'].set_color('white')\n",
    "plt.rcParams['font.family'] = 'Arial'\n",
    "plt.savefig(path+'/Output/Fig2/Fig2B_revise.png',bbox_inches='tight')\n",
    "plt.show()"
   ]
  },
  {
   "cell_type": "code",
   "execution_count": null,
   "metadata": {},
   "outputs": [],
   "source": [
    "y_copy['ClustLabel'].to_csv(path+'/Data/ClustLabel_revise.csv')"
   ]
  },
  {
   "cell_type": "code",
   "execution_count": null,
   "metadata": {},
   "outputs": [],
   "source": []
  }
 ],
 "metadata": {
  "kernelspec": {
   "display_name": "newbase",
   "language": "python",
   "name": "python3"
  },
  "language_info": {
   "codemirror_mode": {
    "name": "ipython",
    "version": 3
   },
   "file_extension": ".py",
   "mimetype": "text/x-python",
   "name": "python",
   "nbconvert_exporter": "python",
   "pygments_lexer": "ipython3",
   "version": "3.11.7"
  }
 },
 "nbformat": 4,
 "nbformat_minor": 2
}
